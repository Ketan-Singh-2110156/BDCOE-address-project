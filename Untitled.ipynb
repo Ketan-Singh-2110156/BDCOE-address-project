{
 "cells": [
  {
   "cell_type": "code",
   "execution_count": 1,
   "id": "0f6bbfab",
   "metadata": {},
   "outputs": [],
   "source": [
    "from geopy.geocoders import Nominatim\n",
    "from nltk.tokenize import word_tokenize, sent_tokenize"
   ]
  },
  {
   "cell_type": "code",
   "execution_count": 2,
   "id": "558c02b8",
   "metadata": {},
   "outputs": [
    {
     "name": "stdout",
     "output_type": "stream",
     "text": [
      "Road-4 House -621 Section -7 Mirpur Dhaka 1216\n"
     ]
    }
   ],
   "source": [
    "adress = \"Road-4 House -621 Section -7 Mirpur Dhaka 1216\" \n",
    "print(adress)"
   ]
  },
  {
   "cell_type": "code",
   "execution_count": 9,
   "id": "a859a053",
   "metadata": {},
   "outputs": [
    {
     "name": "stdout",
     "output_type": "stream",
     "text": [
      "None\n"
     ]
    }
   ],
   "source": [
    ">>> geolocator = Nominatim(user_agent=\"ketan02am@gmail.com\")\n",
    ">>> location = geolocator.geocode(\"Road-4 House -621 Section -7 Mirpur Dhaka 1216\")\n",
    ">>> print(location)\n",
    ">>> #print((location.latitude, location.longitude))\n",
    ">>> #print(location.raw)\n"
   ]
  },
  {
   "cell_type": "code",
   "execution_count": 4,
   "id": "b61a586b",
   "metadata": {},
   "outputs": [
    {
     "name": "stdout",
     "output_type": "stream",
     "text": [
      "Road-4 House -621 Section -7 Mirpur Dhaka 1216\n"
     ]
    }
   ],
   "source": [
    "adress = \"Road-4 House -621 Section -7 Mirpur Dhaka 1216\" \n",
    "print(adress)"
   ]
  },
  {
   "cell_type": "code",
   "execution_count": 5,
   "id": "ceca7f5e",
   "metadata": {},
   "outputs": [
    {
     "data": {
      "text/plain": [
       "['Road-4', 'House', '-621', 'Section', '-7', 'Mirpur', 'Dhaka', '1216']"
      ]
     },
     "execution_count": 5,
     "metadata": {},
     "output_type": "execute_result"
    }
   ],
   "source": [
    "word_tokenize(adress)"
   ]
  },
  {
   "cell_type": "code",
   "execution_count": 6,
   "id": "9ef1a05b",
   "metadata": {},
   "outputs": [
    {
     "name": "stdout",
     "output_type": "stream",
     "text": [
      "['Road-4.House.-621.Section.-7.Mirpur.Dhaka.1216']\n"
     ]
    }
   ],
   "source": [
    "adress = adress.replace(\" \", \".\")\n",
    "adress = adress.replace(\",\",\".\")\n",
    "n_w = sent_tokenize(adress, 'english')\n",
    "print(n_w)"
   ]
  },
  {
   "cell_type": "code",
   "execution_count": 7,
   "id": "551053f6",
   "metadata": {},
   "outputs": [
    {
     "data": {
      "text/plain": [
       "['Road',\n",
       " '4',\n",
       " 'House',\n",
       " '',\n",
       " '621',\n",
       " 'Section',\n",
       " '',\n",
       " '7',\n",
       " 'Mirpur',\n",
       " 'Dhaka',\n",
       " '1216']"
      ]
     },
     "execution_count": 7,
     "metadata": {},
     "output_type": "execute_result"
    }
   ],
   "source": [
    ">>> import re\n",
    ">>> re.split(r'[.,-]', adress)"
   ]
  },
  {
   "cell_type": "code",
   "execution_count": null,
   "id": "20b4de8a",
   "metadata": {},
   "outputs": [],
   "source": []
  }
 ],
 "metadata": {
  "kernelspec": {
   "display_name": "Python 3 (ipykernel)",
   "language": "python",
   "name": "python3"
  },
  "language_info": {
   "codemirror_mode": {
    "name": "ipython",
    "version": 3
   },
   "file_extension": ".py",
   "mimetype": "text/x-python",
   "name": "python",
   "nbconvert_exporter": "python",
   "pygments_lexer": "ipython3",
   "version": "3.10.7"
  }
 },
 "nbformat": 4,
 "nbformat_minor": 5
}
